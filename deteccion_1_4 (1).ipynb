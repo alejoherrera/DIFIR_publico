{
  "metadata": {
    "kernelspec": {
      "display_name": "Python 3",
      "language": "python",
      "name": "python3"
    },
    "language_info": {
      "codemirror_mode": {
        "name": "ipython",
        "version": 3
      },
      "file_extension": ".py",
      "mimetype": "text/x-python",
      "name": "python",
      "nbconvert_exporter": "python",
      "pygments_lexer": "ipython3",
      "version": "3.7.7"
    },
    "colab": {
      "provenance": [],
      "collapsed_sections": [
        "o1O96CrcIog4"
      ]
    },
    "accelerator": "GPU",
    "gpuClass": "standard"
  },
  "nbformat_minor": 0,
  "nbformat": 4,
  "cells": [
    {
      "cell_type": "markdown",
      "source": [
        "# 1.)Preparación del modelo y librerías"
      ],
      "metadata": {
        "id": "o1O96CrcIog4"
      }
    },
    {
      "cell_type": "code",
      "source": [
        "%%capture\n",
        "!pip install mxnet-cu112\n",
        "!pip install gluoncv"
      ],
      "metadata": {
        "id": "p61Og4CDJ5_2"
      },
      "execution_count": null,
      "outputs": []
    },
    {
      "cell_type": "code",
      "source": [
        "%%capture\n",
        "\n",
        "import mxnet as mx\n",
        "from mxnet import image\n",
        "from mxnet.gluon.data.vision import transforms\n",
        "import gluoncv as gcv\n",
        "import hashlib\n",
        "from pylab import rcParams\n",
        "from matplotlib import pyplot as plt\n",
        "from gluoncv import model_zoo, data, utils\n",
        "import numpy as np\n",
        "import os\n",
        "from pathlib import Path\n",
        "import pandas as pd\n",
        "\n",
        "rcParams['figure.figsize'] = 5, 10"
      ],
      "metadata": {
        "trusted": true,
        "id": "hpnth8AYJge7"
      },
      "execution_count": null,
      "outputs": []
    },
    {
      "cell_type": "code",
      "source": [
        "network = gcv.model_zoo.get_model('yolo3_darknet53_coco', pretrained=True,ctx=mx.gpu(0))"
      ],
      "metadata": {
        "trusted": true,
        "id": "nGy1ZezYJge-",
        "colab": {
          "base_uri": "https://localhost:8080/"
        },
        "outputId": "fc91592f-9555-4fb8-b200-752b16ad2178"
      },
      "execution_count": null,
      "outputs": [
        {
          "output_type": "stream",
          "name": "stdout",
          "text": [
            "Downloading /root/.mxnet/models/yolo3_darknet53_coco-09767802.zip from https://apache-mxnet.s3-accelerate.dualstack.amazonaws.com/gluon/models/yolo3_darknet53_coco-09767802.zip...\n"
          ]
        },
        {
          "output_type": "stream",
          "name": "stderr",
          "text": [
            "100%|██████████| 224190/224190 [00:07<00:00, 28655.34KB/s]\n"
          ]
        }
      ]
    },
    {
      "cell_type": "code",
      "source": [
        "network.reset_class(classes=['truck', 'person','car',\"motorcycle\"], reuse_weights=['truck', 'person',\"car\",\"motorcycle\"])"
      ],
      "metadata": {
        "id": "sTJu7YmdRwpk"
      },
      "execution_count": null,
      "outputs": []
    },
    {
      "cell_type": "markdown",
      "source": [
        "#2.)Parámetros de detección\n"
      ],
      "metadata": {
        "id": "Fa-PMCSIJge-"
      }
    },
    {
      "cell_type": "code",
      "source": [
        "#@title Objetos a ubicar en la imagen\n",
        "objetos = \"Todos\" #@param [\"equipo pesado\", \"vehículos\", \"personas\",\"Todos\"]\n",
        "print('Buscar', objetos)"
      ],
      "metadata": {
        "colab": {
          "base_uri": "https://localhost:8080/"
        },
        "id": "cGeH9fS2GnK8",
        "outputId": "49fd3aba-9b40-4e85-f83b-98c4bbaf3e32"
      },
      "execution_count": null,
      "outputs": [
        {
          "output_type": "stream",
          "name": "stdout",
          "text": [
            "Buscar Todos\n"
          ]
        }
      ]
    },
    {
      "cell_type": "code",
      "source": [
        "#@title Probabilidad mínima de que sea el objeto\n",
        "#@markdown Los modelos de reconocimiento establecen una probabilidad que el objeto\n",
        "#@markdown detectado corresponda a la etiqueta, favor especificarla\n",
        "\n",
        "\n",
        "probabilidad= 57 #@param {type:\"slider\", min:30, max:90, step:1}\n",
        "print(\"Probabilidad mínima\",probabilidad)"
      ],
      "metadata": {
        "colab": {
          "base_uri": "https://localhost:8080/"
        },
        "id": "1lpanyEIH45I",
        "outputId": "988afd5b-4192-49eb-83c3-ffa4ff50a18d"
      },
      "execution_count": null,
      "outputs": [
        {
          "output_type": "stream",
          "name": "stdout",
          "text": [
            "Probabilidad mínima 57\n"
          ]
        }
      ]
    },
    {
      "cell_type": "code",
      "source": [
        "from google.colab import drive\n",
        "drive.mount('/content/drive', force_remount=True)"
      ],
      "metadata": {
        "id": "BVoPXecCLtl9",
        "colab": {
          "base_uri": "https://localhost:8080/"
        },
        "outputId": "a1b8c7ce-5f09-476f-878b-f5b143e43683"
      },
      "execution_count": null,
      "outputs": [
        {
          "output_type": "stream",
          "name": "stdout",
          "text": [
            "Mounted at /content/drive\n"
          ]
        }
      ]
    },
    {
      "cell_type": "code",
      "source": [
        "from os import walk\n",
        "path=\"/content/drive/MyDrive/GIZ/Resultados/Frames_iniciales\"\n",
        "imgs =next(walk(path), (None, None, []))[2]"
      ],
      "metadata": {
        "trusted": true,
        "id": "UWkG3BiLJge9"
      },
      "execution_count": null,
      "outputs": []
    },
    {
      "cell_type": "code",
      "source": [
        "imgs[0]"
      ],
      "metadata": {
        "id": "sxcnLN6fPGpq",
        "colab": {
          "base_uri": "https://localhost:8080/",
          "height": 36
        },
        "outputId": "eafe7fe6-fe1c-49f0-b065-181cbbdb832d"
      },
      "execution_count": null,
      "outputs": [
        {
          "output_type": "execute_result",
          "data": {
            "text/plain": [
              "'frame8430.jpg'"
            ],
            "application/vnd.google.colaboratory.intrinsic+json": {
              "type": "string"
            }
          },
          "metadata": {},
          "execution_count": 9
        }
      ]
    },
    {
      "cell_type": "code",
      "source": [
        "def load_image(filepath):\n",
        "    \n",
        "    im=image.imread(filepath)\n",
        "    return im\n",
        "    "
      ],
      "metadata": {
        "trusted": true,
        "id": "LwRZgxbeJge_"
      },
      "execution_count": null,
      "outputs": []
    },
    {
      "cell_type": "code",
      "source": [
        "def transform_image(array):\n",
        "    norm_image,image=data.transforms.presets.yolo.transform_test(array)\n",
        "    norm_image = norm_image.as_in_context(mx.gpu(0))\n",
        "    return norm_image"
      ],
      "metadata": {
        "id": "WGpOx0fTQHHN"
      },
      "execution_count": null,
      "outputs": []
    },
    {
      "cell_type": "code",
      "source": [
        "def detect(network, data):\n",
        "    pred=network(data)\n",
        "    class_ids,scores,bounding_boxes=pred\n",
        "    return class_ids, scores, bounding_boxes"
      ],
      "metadata": {
        "trusted": true,
        "id": "-E3HE0CuJgfD"
      },
      "execution_count": null,
      "outputs": []
    },
    {
      "cell_type": "code",
      "source": [
        "#im=load_image(inicial)\n",
        "#im=transform_image(im)"
      ],
      "metadata": {
        "id": "uPzsb9liPVbY"
      },
      "execution_count": null,
      "outputs": []
    },
    {
      "cell_type": "code",
      "source": [
        "#class_ids, scores, bounding_boxes =detect(network,im)"
      ],
      "metadata": {
        "id": "mjRXmPJTPdKR"
      },
      "execution_count": null,
      "outputs": []
    },
    {
      "cell_type": "code",
      "source": [
        "def count_object(network, class_ids, scores, bounding_boxes, object_label, threshold):\n",
        "    idx=0\n",
        "    for i in range(len(network.classes)):\n",
        "        if network.classes[i]==object_label:\n",
        "            idx=i\n",
        "    scores=scores[0]\n",
        "    class_ids=class_ids[0]\n",
        "    num_object=0\n",
        "    for i in range(len(scores)):\n",
        "        proba=scores[i].astype('float32').asscalar()\n",
        "        if proba>threshold and class_ids[i].asscalar()==idx:\n",
        "            num_object+=1\n",
        "    return num_object"
      ],
      "metadata": {
        "id": "iUQpu15ISEsK"
      },
      "execution_count": null,
      "outputs": []
    },
    {
      "cell_type": "code",
      "source": [
        "difir = Path(path)"
      ],
      "metadata": {
        "id": "702X55kJPxYx"
      },
      "execution_count": null,
      "outputs": []
    },
    {
      "cell_type": "code",
      "source": [
        "Difir1=[]\n",
        "Difir1=pd.DataFrame(Difir1,columns=(\"camara\", \"latitud\", \"longitud\",\"proyecto\",\"etiqueta\",\"probabilidad\",\"cantidad_detectada\",\"anio\",\"mes\",\"dia\",\"hora\",\"minuto\",\"archivo\"))"
      ],
      "metadata": {
        "id": "fnUeOIFDZJZn"
      },
      "execution_count": null,
      "outputs": []
    },
    {
      "cell_type": "code",
      "source": [
        "for filepath in difir.glob('**/*.jpg'):\n",
        "  print(filepath)\n",
        "  im=load_image(filepath)\n",
        "  im=transform_image(im)\n",
        "  file=str(filepath)\n",
        "  threshold=probabilidad/100#0.6\n",
        "  class_ids, scores, bounding_boxes =detect(network,im)\n",
        "  for object_label in [\"truck\",\"person\",\"car\"]:\n",
        "    count = count_object(network, class_ids, scores, bounding_boxes, object_label,threshold)\n",
        "    Difir1.loc[len(Difir1)] = [\"DIFIR1\",9.9322,-84.10,\"Prueba_GIZ\",object_label,threshold,count,file[67:71],file[72:74],file[75:77],file[78:80],file[81:83],file]\n",
        "    #print(\"{} objects of class '{}' detected\".format(count, object_label))"
      ],
      "metadata": {
        "id": "mAQ8opuqVBSo"
      },
      "execution_count": null,
      "outputs": []
    },
    {
      "cell_type": "code",
      "source": [
        "Difir1"
      ],
      "metadata": {
        "id": "mi9Oo1CbaCEW",
        "colab": {
          "base_uri": "https://localhost:8080/",
          "height": 488
        },
        "outputId": "9eefbe3c-153c-4ef6-98dd-bfb1f8a4af2a"
      },
      "execution_count": null,
      "outputs": [
        {
          "output_type": "execute_result",
          "data": {
            "text/plain": [
              "      camara  latitud  longitud    proyecto etiqueta  probabilidad  \\\n",
              "0     DIFIR1   9.9322     -84.1  Prueba_GIZ    truck          0.57   \n",
              "1     DIFIR1   9.9322     -84.1  Prueba_GIZ   person          0.57   \n",
              "2     DIFIR1   9.9322     -84.1  Prueba_GIZ      car          0.57   \n",
              "3     DIFIR1   9.9322     -84.1  Prueba_GIZ    truck          0.57   \n",
              "4     DIFIR1   9.9322     -84.1  Prueba_GIZ   person          0.57   \n",
              "...      ...      ...       ...         ...      ...           ...   \n",
              "2545  DIFIR1   9.9322     -84.1  Prueba_GIZ   person          0.57   \n",
              "2546  DIFIR1   9.9322     -84.1  Prueba_GIZ      car          0.57   \n",
              "2547  DIFIR1   9.9322     -84.1  Prueba_GIZ    truck          0.57   \n",
              "2548  DIFIR1   9.9322     -84.1  Prueba_GIZ   person          0.57   \n",
              "2549  DIFIR1   9.9322     -84.1  Prueba_GIZ      car          0.57   \n",
              "\n",
              "     cantidad_detectada anio mes dia hora minuto  \\\n",
              "0                     0    g                       \n",
              "1                     0    g                       \n",
              "2                     0    g                       \n",
              "3                     0    g                       \n",
              "4                     0    g                       \n",
              "...                 ...  ...  ..  ..  ...    ...   \n",
              "2545                  0    g                       \n",
              "2546                  0    g                       \n",
              "2547                  0    g                       \n",
              "2548                  0    g                       \n",
              "2549                  0    g                       \n",
              "\n",
              "                                                archivo  \n",
              "0     /content/drive/MyDrive/GIZ/Resultados/Frames_i...  \n",
              "1     /content/drive/MyDrive/GIZ/Resultados/Frames_i...  \n",
              "2     /content/drive/MyDrive/GIZ/Resultados/Frames_i...  \n",
              "3     /content/drive/MyDrive/GIZ/Resultados/Frames_i...  \n",
              "4     /content/drive/MyDrive/GIZ/Resultados/Frames_i...  \n",
              "...                                                 ...  \n",
              "2545  /content/drive/MyDrive/GIZ/Resultados/Frames_i...  \n",
              "2546  /content/drive/MyDrive/GIZ/Resultados/Frames_i...  \n",
              "2547  /content/drive/MyDrive/GIZ/Resultados/Frames_i...  \n",
              "2548  /content/drive/MyDrive/GIZ/Resultados/Frames_i...  \n",
              "2549  /content/drive/MyDrive/GIZ/Resultados/Frames_i...  \n",
              "\n",
              "[2550 rows x 13 columns]"
            ],
            "text/html": [
              "\n",
              "  <div id=\"df-a9560eb0-cfdb-4353-8cf9-21c165cbcd91\">\n",
              "    <div class=\"colab-df-container\">\n",
              "      <div>\n",
              "<style scoped>\n",
              "    .dataframe tbody tr th:only-of-type {\n",
              "        vertical-align: middle;\n",
              "    }\n",
              "\n",
              "    .dataframe tbody tr th {\n",
              "        vertical-align: top;\n",
              "    }\n",
              "\n",
              "    .dataframe thead th {\n",
              "        text-align: right;\n",
              "    }\n",
              "</style>\n",
              "<table border=\"1\" class=\"dataframe\">\n",
              "  <thead>\n",
              "    <tr style=\"text-align: right;\">\n",
              "      <th></th>\n",
              "      <th>camara</th>\n",
              "      <th>latitud</th>\n",
              "      <th>longitud</th>\n",
              "      <th>proyecto</th>\n",
              "      <th>etiqueta</th>\n",
              "      <th>probabilidad</th>\n",
              "      <th>cantidad_detectada</th>\n",
              "      <th>anio</th>\n",
              "      <th>mes</th>\n",
              "      <th>dia</th>\n",
              "      <th>hora</th>\n",
              "      <th>minuto</th>\n",
              "      <th>archivo</th>\n",
              "    </tr>\n",
              "  </thead>\n",
              "  <tbody>\n",
              "    <tr>\n",
              "      <th>0</th>\n",
              "      <td>DIFIR1</td>\n",
              "      <td>9.9322</td>\n",
              "      <td>-84.1</td>\n",
              "      <td>Prueba_GIZ</td>\n",
              "      <td>truck</td>\n",
              "      <td>0.57</td>\n",
              "      <td>0</td>\n",
              "      <td>g</td>\n",
              "      <td></td>\n",
              "      <td></td>\n",
              "      <td></td>\n",
              "      <td></td>\n",
              "      <td>/content/drive/MyDrive/GIZ/Resultados/Frames_i...</td>\n",
              "    </tr>\n",
              "    <tr>\n",
              "      <th>1</th>\n",
              "      <td>DIFIR1</td>\n",
              "      <td>9.9322</td>\n",
              "      <td>-84.1</td>\n",
              "      <td>Prueba_GIZ</td>\n",
              "      <td>person</td>\n",
              "      <td>0.57</td>\n",
              "      <td>0</td>\n",
              "      <td>g</td>\n",
              "      <td></td>\n",
              "      <td></td>\n",
              "      <td></td>\n",
              "      <td></td>\n",
              "      <td>/content/drive/MyDrive/GIZ/Resultados/Frames_i...</td>\n",
              "    </tr>\n",
              "    <tr>\n",
              "      <th>2</th>\n",
              "      <td>DIFIR1</td>\n",
              "      <td>9.9322</td>\n",
              "      <td>-84.1</td>\n",
              "      <td>Prueba_GIZ</td>\n",
              "      <td>car</td>\n",
              "      <td>0.57</td>\n",
              "      <td>0</td>\n",
              "      <td>g</td>\n",
              "      <td></td>\n",
              "      <td></td>\n",
              "      <td></td>\n",
              "      <td></td>\n",
              "      <td>/content/drive/MyDrive/GIZ/Resultados/Frames_i...</td>\n",
              "    </tr>\n",
              "    <tr>\n",
              "      <th>3</th>\n",
              "      <td>DIFIR1</td>\n",
              "      <td>9.9322</td>\n",
              "      <td>-84.1</td>\n",
              "      <td>Prueba_GIZ</td>\n",
              "      <td>truck</td>\n",
              "      <td>0.57</td>\n",
              "      <td>0</td>\n",
              "      <td>g</td>\n",
              "      <td></td>\n",
              "      <td></td>\n",
              "      <td></td>\n",
              "      <td></td>\n",
              "      <td>/content/drive/MyDrive/GIZ/Resultados/Frames_i...</td>\n",
              "    </tr>\n",
              "    <tr>\n",
              "      <th>4</th>\n",
              "      <td>DIFIR1</td>\n",
              "      <td>9.9322</td>\n",
              "      <td>-84.1</td>\n",
              "      <td>Prueba_GIZ</td>\n",
              "      <td>person</td>\n",
              "      <td>0.57</td>\n",
              "      <td>0</td>\n",
              "      <td>g</td>\n",
              "      <td></td>\n",
              "      <td></td>\n",
              "      <td></td>\n",
              "      <td></td>\n",
              "      <td>/content/drive/MyDrive/GIZ/Resultados/Frames_i...</td>\n",
              "    </tr>\n",
              "    <tr>\n",
              "      <th>...</th>\n",
              "      <td>...</td>\n",
              "      <td>...</td>\n",
              "      <td>...</td>\n",
              "      <td>...</td>\n",
              "      <td>...</td>\n",
              "      <td>...</td>\n",
              "      <td>...</td>\n",
              "      <td>...</td>\n",
              "      <td>...</td>\n",
              "      <td>...</td>\n",
              "      <td>...</td>\n",
              "      <td>...</td>\n",
              "      <td>...</td>\n",
              "    </tr>\n",
              "    <tr>\n",
              "      <th>2545</th>\n",
              "      <td>DIFIR1</td>\n",
              "      <td>9.9322</td>\n",
              "      <td>-84.1</td>\n",
              "      <td>Prueba_GIZ</td>\n",
              "      <td>person</td>\n",
              "      <td>0.57</td>\n",
              "      <td>0</td>\n",
              "      <td>g</td>\n",
              "      <td></td>\n",
              "      <td></td>\n",
              "      <td></td>\n",
              "      <td></td>\n",
              "      <td>/content/drive/MyDrive/GIZ/Resultados/Frames_i...</td>\n",
              "    </tr>\n",
              "    <tr>\n",
              "      <th>2546</th>\n",
              "      <td>DIFIR1</td>\n",
              "      <td>9.9322</td>\n",
              "      <td>-84.1</td>\n",
              "      <td>Prueba_GIZ</td>\n",
              "      <td>car</td>\n",
              "      <td>0.57</td>\n",
              "      <td>0</td>\n",
              "      <td>g</td>\n",
              "      <td></td>\n",
              "      <td></td>\n",
              "      <td></td>\n",
              "      <td></td>\n",
              "      <td>/content/drive/MyDrive/GIZ/Resultados/Frames_i...</td>\n",
              "    </tr>\n",
              "    <tr>\n",
              "      <th>2547</th>\n",
              "      <td>DIFIR1</td>\n",
              "      <td>9.9322</td>\n",
              "      <td>-84.1</td>\n",
              "      <td>Prueba_GIZ</td>\n",
              "      <td>truck</td>\n",
              "      <td>0.57</td>\n",
              "      <td>0</td>\n",
              "      <td>g</td>\n",
              "      <td></td>\n",
              "      <td></td>\n",
              "      <td></td>\n",
              "      <td></td>\n",
              "      <td>/content/drive/MyDrive/GIZ/Resultados/Frames_i...</td>\n",
              "    </tr>\n",
              "    <tr>\n",
              "      <th>2548</th>\n",
              "      <td>DIFIR1</td>\n",
              "      <td>9.9322</td>\n",
              "      <td>-84.1</td>\n",
              "      <td>Prueba_GIZ</td>\n",
              "      <td>person</td>\n",
              "      <td>0.57</td>\n",
              "      <td>0</td>\n",
              "      <td>g</td>\n",
              "      <td></td>\n",
              "      <td></td>\n",
              "      <td></td>\n",
              "      <td></td>\n",
              "      <td>/content/drive/MyDrive/GIZ/Resultados/Frames_i...</td>\n",
              "    </tr>\n",
              "    <tr>\n",
              "      <th>2549</th>\n",
              "      <td>DIFIR1</td>\n",
              "      <td>9.9322</td>\n",
              "      <td>-84.1</td>\n",
              "      <td>Prueba_GIZ</td>\n",
              "      <td>car</td>\n",
              "      <td>0.57</td>\n",
              "      <td>0</td>\n",
              "      <td>g</td>\n",
              "      <td></td>\n",
              "      <td></td>\n",
              "      <td></td>\n",
              "      <td></td>\n",
              "      <td>/content/drive/MyDrive/GIZ/Resultados/Frames_i...</td>\n",
              "    </tr>\n",
              "  </tbody>\n",
              "</table>\n",
              "<p>2550 rows × 13 columns</p>\n",
              "</div>\n",
              "      <button class=\"colab-df-convert\" onclick=\"convertToInteractive('df-a9560eb0-cfdb-4353-8cf9-21c165cbcd91')\"\n",
              "              title=\"Convert this dataframe to an interactive table.\"\n",
              "              style=\"display:none;\">\n",
              "        \n",
              "  <svg xmlns=\"http://www.w3.org/2000/svg\" height=\"24px\"viewBox=\"0 0 24 24\"\n",
              "       width=\"24px\">\n",
              "    <path d=\"M0 0h24v24H0V0z\" fill=\"none\"/>\n",
              "    <path d=\"M18.56 5.44l.94 2.06.94-2.06 2.06-.94-2.06-.94-.94-2.06-.94 2.06-2.06.94zm-11 1L8.5 8.5l.94-2.06 2.06-.94-2.06-.94L8.5 2.5l-.94 2.06-2.06.94zm10 10l.94 2.06.94-2.06 2.06-.94-2.06-.94-.94-2.06-.94 2.06-2.06.94z\"/><path d=\"M17.41 7.96l-1.37-1.37c-.4-.4-.92-.59-1.43-.59-.52 0-1.04.2-1.43.59L10.3 9.45l-7.72 7.72c-.78.78-.78 2.05 0 2.83L4 21.41c.39.39.9.59 1.41.59.51 0 1.02-.2 1.41-.59l7.78-7.78 2.81-2.81c.8-.78.8-2.07 0-2.86zM5.41 20L4 18.59l7.72-7.72 1.47 1.35L5.41 20z\"/>\n",
              "  </svg>\n",
              "      </button>\n",
              "      \n",
              "  <style>\n",
              "    .colab-df-container {\n",
              "      display:flex;\n",
              "      flex-wrap:wrap;\n",
              "      gap: 12px;\n",
              "    }\n",
              "\n",
              "    .colab-df-convert {\n",
              "      background-color: #E8F0FE;\n",
              "      border: none;\n",
              "      border-radius: 50%;\n",
              "      cursor: pointer;\n",
              "      display: none;\n",
              "      fill: #1967D2;\n",
              "      height: 32px;\n",
              "      padding: 0 0 0 0;\n",
              "      width: 32px;\n",
              "    }\n",
              "\n",
              "    .colab-df-convert:hover {\n",
              "      background-color: #E2EBFA;\n",
              "      box-shadow: 0px 1px 2px rgba(60, 64, 67, 0.3), 0px 1px 3px 1px rgba(60, 64, 67, 0.15);\n",
              "      fill: #174EA6;\n",
              "    }\n",
              "\n",
              "    [theme=dark] .colab-df-convert {\n",
              "      background-color: #3B4455;\n",
              "      fill: #D2E3FC;\n",
              "    }\n",
              "\n",
              "    [theme=dark] .colab-df-convert:hover {\n",
              "      background-color: #434B5C;\n",
              "      box-shadow: 0px 1px 3px 1px rgba(0, 0, 0, 0.15);\n",
              "      filter: drop-shadow(0px 1px 2px rgba(0, 0, 0, 0.3));\n",
              "      fill: #FFFFFF;\n",
              "    }\n",
              "  </style>\n",
              "\n",
              "      <script>\n",
              "        const buttonEl =\n",
              "          document.querySelector('#df-a9560eb0-cfdb-4353-8cf9-21c165cbcd91 button.colab-df-convert');\n",
              "        buttonEl.style.display =\n",
              "          google.colab.kernel.accessAllowed ? 'block' : 'none';\n",
              "\n",
              "        async function convertToInteractive(key) {\n",
              "          const element = document.querySelector('#df-a9560eb0-cfdb-4353-8cf9-21c165cbcd91');\n",
              "          const dataTable =\n",
              "            await google.colab.kernel.invokeFunction('convertToInteractive',\n",
              "                                                     [key], {});\n",
              "          if (!dataTable) return;\n",
              "\n",
              "          const docLinkHtml = 'Like what you see? Visit the ' +\n",
              "            '<a target=\"_blank\" href=https://colab.research.google.com/notebooks/data_table.ipynb>data table notebook</a>'\n",
              "            + ' to learn more about interactive tables.';\n",
              "          element.innerHTML = '';\n",
              "          dataTable['output_type'] = 'display_data';\n",
              "          await google.colab.output.renderOutput(dataTable, element);\n",
              "          const docLink = document.createElement('div');\n",
              "          docLink.innerHTML = docLinkHtml;\n",
              "          element.appendChild(docLink);\n",
              "        }\n",
              "      </script>\n",
              "    </div>\n",
              "  </div>\n",
              "  "
            ]
          },
          "metadata": {},
          "execution_count": 19
        }
      ]
    },
    {
      "cell_type": "code",
      "source": [
        "Difir1.to_excel(\"cgr.xlsx\")"
      ],
      "metadata": {
        "id": "34zjfPIZRVeN"
      },
      "execution_count": null,
      "outputs": []
    }
  ]
}